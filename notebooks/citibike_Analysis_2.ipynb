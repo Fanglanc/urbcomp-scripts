{
 "cells": [
  {
   "cell_type": "code",
   "execution_count": 1,
   "metadata": {
    "collapsed": true
   },
   "outputs": [],
   "source": [
    "%matplotlib inline\n",
    "import matplotlib.pyplot as plt\n",
    "import matplotlib.cm\n",
    "import sys\n",
    "sys.path.insert(0,'../')\n",
    "%load_ext autoreload\n",
    "%autoreload 2\n",
    "from utils import citibike_helpers\n",
    "import numpy as np\n",
    "import pandas as pd  #requirement comes with anaconda\n",
    "import datetime \n",
    "from datetime import datetime as dt\n",
    "import seaborn as sns\n",
    "import operator\n",
    "import networkx as nx\n",
    "import community #requires separate install -  pip install python-louvain\n",
    "import warnings\n",
    "warnings.filterwarnings('ignore')"
   ]
  },
  {
   "cell_type": "code",
   "execution_count": 2,
   "metadata": {},
   "outputs": [
    {
     "data": {
      "text/html": [
       "<div>\n",
       "<style>\n",
       "    .dataframe thead tr:only-child th {\n",
       "        text-align: right;\n",
       "    }\n",
       "\n",
       "    .dataframe thead th {\n",
       "        text-align: left;\n",
       "    }\n",
       "\n",
       "    .dataframe tbody tr th {\n",
       "        vertical-align: top;\n",
       "    }\n",
       "</style>\n",
       "<table border=\"1\" class=\"dataframe\">\n",
       "  <thead>\n",
       "    <tr style=\"text-align: right;\">\n",
       "      <th></th>\n",
       "      <th>Trip Duration</th>\n",
       "      <th>Start Time</th>\n",
       "      <th>Stop Time</th>\n",
       "      <th>Start Station ID</th>\n",
       "      <th>Start Station Name</th>\n",
       "      <th>Start Station Latitude</th>\n",
       "      <th>Start Station Longitude</th>\n",
       "      <th>End Station ID</th>\n",
       "      <th>End Station Name</th>\n",
       "      <th>End Station Latitude</th>\n",
       "      <th>End Station Longitude</th>\n",
       "      <th>Bike ID</th>\n",
       "      <th>User Type</th>\n",
       "      <th>Birth Year</th>\n",
       "      <th>Gender</th>\n",
       "    </tr>\n",
       "  </thead>\n",
       "  <tbody>\n",
       "    <tr>\n",
       "      <th>0</th>\n",
       "      <td>680</td>\n",
       "      <td>2017-01-01 00:00:21</td>\n",
       "      <td>2017-01-01 00:11:41</td>\n",
       "      <td>3226</td>\n",
       "      <td>W 82 St &amp; Central Park West</td>\n",
       "      <td>40.782750</td>\n",
       "      <td>-73.971370</td>\n",
       "      <td>3165</td>\n",
       "      <td>Central Park West &amp; W 72 St</td>\n",
       "      <td>40.775794</td>\n",
       "      <td>-73.976206</td>\n",
       "      <td>25542</td>\n",
       "      <td>Subscriber</td>\n",
       "      <td>1965.0</td>\n",
       "      <td>2</td>\n",
       "    </tr>\n",
       "    <tr>\n",
       "      <th>1</th>\n",
       "      <td>1282</td>\n",
       "      <td>2017-01-01 00:00:45</td>\n",
       "      <td>2017-01-01 00:22:08</td>\n",
       "      <td>3263</td>\n",
       "      <td>Cooper Square &amp; E 7 St</td>\n",
       "      <td>40.729236</td>\n",
       "      <td>-73.990868</td>\n",
       "      <td>498</td>\n",
       "      <td>Broadway &amp; W 32 St</td>\n",
       "      <td>40.748549</td>\n",
       "      <td>-73.988084</td>\n",
       "      <td>21136</td>\n",
       "      <td>Subscriber</td>\n",
       "      <td>1987.0</td>\n",
       "      <td>2</td>\n",
       "    </tr>\n",
       "  </tbody>\n",
       "</table>\n",
       "</div>"
      ],
      "text/plain": [
       "   Trip Duration           Start Time            Stop Time  Start Station ID  \\\n",
       "0            680  2017-01-01 00:00:21  2017-01-01 00:11:41              3226   \n",
       "1           1282  2017-01-01 00:00:45  2017-01-01 00:22:08              3263   \n",
       "\n",
       "            Start Station Name  Start Station Latitude  \\\n",
       "0  W 82 St & Central Park West               40.782750   \n",
       "1       Cooper Square & E 7 St               40.729236   \n",
       "\n",
       "   Start Station Longitude  End Station ID             End Station Name  \\\n",
       "0               -73.971370            3165  Central Park West & W 72 St   \n",
       "1               -73.990868             498           Broadway & W 32 St   \n",
       "\n",
       "   End Station Latitude  End Station Longitude  Bike ID   User Type  \\\n",
       "0             40.775794             -73.976206    25542  Subscriber   \n",
       "1             40.748549             -73.988084    21136  Subscriber   \n",
       "\n",
       "   Birth Year  Gender  \n",
       "0      1965.0       2  \n",
       "1      1987.0       2  "
      ]
     },
     "execution_count": 2,
     "metadata": {},
     "output_type": "execute_result"
    }
   ],
   "source": [
    "inputfile=\"../datasets/citibike/201701-citibike-tripdata.csv.gz\"\n",
    "df=citibike_helpers.load_citibike_data(inputfile)\n",
    "df.head(2)"
   ]
  },
  {
   "cell_type": "code",
   "execution_count": 3,
   "metadata": {},
   "outputs": [
    {
     "name": "stdout",
     "output_type": "stream",
     "text": [
      "(609,)\n",
      "(612,)\n",
      "Stations that no one ever starts at but they only end at {3250, 3447, 3183}\n"
     ]
    }
   ],
   "source": [
    "unique_start_stations=citibike_helpers.get_unique_column_values(df,'Start Station ID')\n",
    "unique_end_stations=citibike_helpers.get_unique_column_values(df,'End Station ID')\n",
    "station_ids=set(unique_start_stations).union(set(unique_end_stations))\n",
    "print(unique_start_stations.shape)\n",
    "print(unique_end_stations.shape)\n",
    "print(\"Stations that no one ever starts at but they only end at\",set(unique_end_stations).difference(set(unique_start_stations)))"
   ]
  },
  {
   "cell_type": "code",
   "execution_count": 4,
   "metadata": {
    "collapsed": true
   },
   "outputs": [],
   "source": [
    "inputfile=\"../datasets/citibike/201701-citibike-tripdata.csv.gz\"\n",
    "df = citibike_helpers.load_citibike_data(inputfile)\n",
    "df = citibike_helpers.calculate_trip_durations_citibike(df)\n",
    "#Here we focus on a subset of \"interesting\" trips with duration between 5 and 120 minutes.\n",
    "subset_trips=df[(df['Trip Duration Minutes']>5) & (df['Trip Duration Minutes']<120)]"
   ]
  },
  {
   "cell_type": "code",
   "execution_count": 5,
   "metadata": {},
   "outputs": [
    {
     "ename": "TypeError",
     "evalue": "plot_network() missing 1 required positional argument: 'node_dist'",
     "output_type": "error",
     "traceback": [
      "\u001b[0;31m---------------------------------------------------------------------------\u001b[0m",
      "\u001b[0;31mTypeError\u001b[0m                                 Traceback (most recent call last)",
      "\u001b[0;32m<ipython-input-5-d0fcb80d6592>\u001b[0m in \u001b[0;36m<module>\u001b[0;34m()\u001b[0m\n\u001b[1;32m      3\u001b[0m \u001b[0mg\u001b[0m\u001b[0;34m=\u001b[0m\u001b[0mcitibike_helpers\u001b[0m\u001b[0;34m.\u001b[0m\u001b[0mcreate_subset_graph\u001b[0m\u001b[0;34m(\u001b[0m\u001b[0medges_with_weights\u001b[0m\u001b[0;34m,\u001b[0m\u001b[0mthr\u001b[0m\u001b[0;34m=\u001b[0m\u001b[0m_thr\u001b[0m\u001b[0;34m,\u001b[0m\u001b[0mgraphtype\u001b[0m\u001b[0;34m=\u001b[0m\u001b[0;34m'Directed'\u001b[0m\u001b[0;34m)\u001b[0m\u001b[0;34m\u001b[0m\u001b[0m\n\u001b[1;32m      4\u001b[0m \u001b[0mfig_path\u001b[0m\u001b[0;34m=\u001b[0m\u001b[0;34m\"figures/citibike_top_\"\u001b[0m\u001b[0;34m+\u001b[0m\u001b[0mstr\u001b[0m\u001b[0;34m(\u001b[0m\u001b[0m_thr\u001b[0m\u001b[0;34m*\u001b[0m\u001b[0;36m100\u001b[0m\u001b[0;34m)\u001b[0m\u001b[0;34m+\u001b[0m\u001b[0;34m\"_stn_stn_network.png\"\u001b[0m\u001b[0;34m\u001b[0m\u001b[0m\n\u001b[0;32m----> 5\u001b[0;31m \u001b[0mcitibike_helpers\u001b[0m\u001b[0;34m.\u001b[0m\u001b[0mplot_network\u001b[0m\u001b[0;34m(\u001b[0m\u001b[0mg\u001b[0m\u001b[0;34m,\u001b[0m\u001b[0mtitle\u001b[0m\u001b[0;34m=\u001b[0m\u001b[0;34m\"\"\u001b[0m\u001b[0;34m,\u001b[0m\u001b[0medgealpha\u001b[0m\u001b[0;34m=\u001b[0m\u001b[0;36m0.3\u001b[0m\u001b[0;34m,\u001b[0m\u001b[0mnodesize\u001b[0m\u001b[0;34m=\u001b[0m\u001b[0;36m100\u001b[0m\u001b[0;34m,\u001b[0m\u001b[0msavefig\u001b[0m\u001b[0;34m=\u001b[0m\u001b[0;32mTrue\u001b[0m\u001b[0;34m,\u001b[0m\u001b[0mfilename\u001b[0m\u001b[0;34m=\u001b[0m\u001b[0mfig_path\u001b[0m\u001b[0;34m)\u001b[0m\u001b[0;34m\u001b[0m\u001b[0m\n\u001b[0m",
      "\u001b[0;31mTypeError\u001b[0m: plot_network() missing 1 required positional argument: 'node_dist'"
     ]
    }
   ],
   "source": [
    "edges_with_weights=citibike_helpers.infer_weighted_station_station_network(subset_trips)\n",
    "_thr=0.005\n",
    "g=citibike_helpers.create_subset_graph(edges_with_weights,thr=_thr,graphtype='Directed')\n",
    "fig_path=\"figures/citibike_top_\"+str(_thr*100)+\"_stn_stn_network.png\"\n",
    "citibike_helpers.plot_network(g, node_dist=0.001, title=\"\",edgealpha=0.3,nodesize=100,savefig=True,filename=fig_path)"
   ]
  },
  {
   "cell_type": "code",
   "execution_count": null,
   "metadata": {},
   "outputs": [],
   "source": [
    "print(nx.info(g.to_undirected()))"
   ]
  },
  {
   "cell_type": "markdown",
   "metadata": {},
   "source": [
    "# Laplacian Matrix\n",
    "First 8 rows and columns of laplacian matrix for the graph. Please note that, we round the values in the Laplacian matrix just for demonstration purposes, you should not round these values in real world."
   ]
  },
  {
   "cell_type": "code",
   "execution_count": null,
   "metadata": {},
   "outputs": [],
   "source": [
    "und_g = g.to_undirected()\n",
    "lpm = nx.laplacian_matrix(und_g)\n",
    "print(np.round(lpm,2)[0:8,0:8].todense()) "
   ]
  },
  {
   "cell_type": "markdown",
   "metadata": {},
   "source": [
    "# Modularity Matrix\n",
    "First 8 rows and columns of laplacian matrix for the graph. Please note that, we round the values in the Laplacian matrix just for demonstration purposes, you should not round these values in real world."
   ]
  },
  {
   "cell_type": "code",
   "execution_count": null,
   "metadata": {},
   "outputs": [],
   "source": [
    "modularity_mat = nx.directed_modularity_matrix(g)\n",
    "print(np.round(modularity_mat,2)[0:8,0:8])"
   ]
  },
  {
   "cell_type": "code",
   "execution_count": null,
   "metadata": {
    "collapsed": true
   },
   "outputs": [],
   "source": [
    "modulariy_ev = sorted(nx.linalg.spectrum.modularity_spectrum(g),reverse=True)\n",
    "laplacian_ev = sorted(nx.linalg.spectrum.laplacian_spectrum(und_g),reverse=True)"
   ]
  },
  {
   "cell_type": "code",
   "execution_count": null,
   "metadata": {},
   "outputs": [],
   "source": [
    "print('top 10 eigenvalues for modularity matrix and laplacian matrix:')\n",
    "for k,v in zip(modulariy_ev[0:10],laplacian_ev[0:10]):\n",
    "    print('modularity matrix: {}\\tlaplacian matrix: {}'.format(k,v))"
   ]
  },
  {
   "cell_type": "markdown",
   "metadata": {},
   "source": [
    "# Modularity value"
   ]
  },
  {
   "cell_type": "code",
   "execution_count": null,
   "metadata": {},
   "outputs": [],
   "source": [
    "part = community.best_partition(und_g)\n",
    "print(community.modularity(part, und_g))"
   ]
  },
  {
   "cell_type": "markdown",
   "metadata": {},
   "source": [
    "# Connected Components"
   ]
  },
  {
   "cell_type": "code",
   "execution_count": null,
   "metadata": {},
   "outputs": [],
   "source": [
    "sub_graphs = nx.connected_component_subgraphs(und_g)\n",
    "print('number of connected components: ' + str(len([k for k in sub_graphs])))"
   ]
  },
  {
   "cell_type": "markdown",
   "metadata": {},
   "source": [
    "# Giant Connected Component"
   ]
  },
  {
   "cell_type": "code",
   "execution_count": null,
   "metadata": {},
   "outputs": [],
   "source": [
    "Gc = max(nx.connected_component_subgraphs(und_g), key=len)\n",
    "Gc=nx.convert_node_labels_to_integers(Gc)\n",
    "Gc.name='GCC'\n",
    "print(nx.info(Gc))"
   ]
  },
  {
   "cell_type": "markdown",
   "metadata": {},
   "source": [
    "# Community Detection\n",
    "We find the communities for the Giant Connected Component"
   ]
  },
  {
   "cell_type": "code",
   "execution_count": null,
   "metadata": {},
   "outputs": [],
   "source": [
    "plt.figure(figsize=(9,6))\n",
    "pos = nx.spring_layout(Gc,iterations=200)\n",
    "partition = community.best_partition(Gc)\n",
    "values = [partition.get(node) for node in Gc.nodes()]\n",
    "plt.axis(\"off\")\n",
    "plt.title('Plot of {} Communities for the Citibike Network'.format(len(set(partition.values()))))\n",
    "nx.draw_networkx(Gc, pos = pos, cmap = plt.get_cmap(\"jet\"), node_color = values, node_size = 50, with_labels = False)"
   ]
  },
  {
   "cell_type": "markdown",
   "metadata": {},
   "source": [
    "# Spectral Clustering: Binary Clustering\n",
    "In binary clustering, we just use the second smallest Eigenvector to decide the labels of nodes."
   ]
  },
  {
   "cell_type": "code",
   "execution_count": null,
   "metadata": {},
   "outputs": [],
   "source": [
    "L = nx.laplacian_matrix(Gc)\n",
    "eig_values, eig_vectors = np.linalg.eigh(L.todense()) # Eigen values sorted from smallest to biggest\n",
    "f = eig_vectors[:,1] # use the second smallest Eigen vector for spectral clustering\n",
    "labels = np.ravel(np.sign(f)) # decides the label of each node\n",
    "fig = plt.figure(figsize=(9,6))\n",
    "plt.axis(\"off\")\n",
    "nx.draw_networkx(Gc, pos,node_size=45, cmap = plt.get_cmap(\"jet\"), node_color=labels, with_labels = False)"
   ]
  },
  {
   "cell_type": "markdown",
   "metadata": {},
   "source": [
    "# Spectral Clustering: Multiple Clusters\n",
    "To find more than 2 clusters, we can use all the Eigenvectors (except the first one) of the Laplacian matrix. Please note that these eigenvectors are sorted based on their respective eigenvalues"
   ]
  },
  {
   "cell_type": "code",
   "execution_count": null,
   "metadata": {
    "collapsed": true
   },
   "outputs": [],
   "source": [
    "import scipy.cluster.vq as vq\n",
    "k=4\n",
    "means, labels = vq.kmeans2(eig_vectors[:,1:k], k)"
   ]
  },
  {
   "cell_type": "code",
   "execution_count": null,
   "metadata": {},
   "outputs": [],
   "source": [
    "fig = plt.figure(figsize=(9,6))\n",
    "plt.axis(\"off\")\n",
    "nx.draw_networkx(Gc, pos, node_size=45, cmap = plt.get_cmap(\"jet\"), node_color=labels, with_labels = False)"
   ]
  },
  {
   "cell_type": "markdown",
   "metadata": {},
   "source": [
    "# Agglomerative Hierarchical Clustering (AHC)\n",
    "We use complete link (Creates AHC using farthest point linkage) for this example."
   ]
  },
  {
   "cell_type": "markdown",
   "metadata": {},
   "source": [
    "# LVL 1: Original Graph"
   ]
  },
  {
   "cell_type": "code",
   "execution_count": null,
   "metadata": {},
   "outputs": [],
   "source": [
    "fig=plt.figure(figsize=(9,6))\n",
    "plt.axis(\"off\")\n",
    "nx.draw_networkx(Gc, pos, node_size=45, with_labels = False)\n",
    "print('original graph (lvl 1) info:')\n",
    "print(nx.info(Gc))"
   ]
  },
  {
   "cell_type": "markdown",
   "metadata": {},
   "source": [
    "# AHC: level by level clustering"
   ]
  },
  {
   "cell_type": "code",
   "execution_count": null,
   "metadata": {
    "scrolled": false
   },
   "outputs": [],
   "source": [
    "H= Gc.copy()\n",
    "lvl = 2\n",
    "while(H.number_of_nodes()>1):\n",
    "    H, partitions = citibike_helpers.draw_hc(H, lvl)\n",
    "    print('LVL {} cluster info:'.format(lvl))\n",
    "    print(nx.info(H))\n",
    "    print('sample of partitions:')\n",
    "    print(partitions[0:5])\n",
    "    lvl +=1"
   ]
  },
  {
   "cell_type": "markdown",
   "metadata": {},
   "source": [
    "# Divisive Hierarchial Clustering"
   ]
  },
  {
   "cell_type": "code",
   "execution_count": null,
   "metadata": {
    "collapsed": true
   },
   "outputs": [],
   "source": [
    "partition_graph, partitions = citibike_helpers.dhc(Gc)"
   ]
  },
  {
   "cell_type": "code",
   "execution_count": null,
   "metadata": {
    "collapsed": true
   },
   "outputs": [],
   "source": [
    "lvl = 2\n",
    "PG = partition_graph[lvl]\n",
    "partition = partitions[lvl]\n",
    "labels = np.ones(PG.number_of_nodes())\n",
    "for i,p in enumerate(partition):\n",
    "    for k in p:\n",
    "        labels[k]=int(i)"
   ]
  },
  {
   "cell_type": "code",
   "execution_count": null,
   "metadata": {},
   "outputs": [],
   "source": [
    "citibike_helpers.plot_dhc(PG, partition, labels, lvl, pos)"
   ]
  },
  {
   "cell_type": "code",
   "execution_count": null,
   "metadata": {
    "collapsed": true
   },
   "outputs": [],
   "source": []
  }
 ],
 "metadata": {
  "kernelspec": {
   "display_name": "Python 3",
   "language": "python",
   "name": "python3"
  },
  "latex_envs": {
   "bibliofile": "biblio.bib",
   "cite_by": "apalike",
   "current_citInitial": 1,
   "eqLabelWithNumbers": true,
   "eqNumInitial": 0
  }
 },
 "nbformat": 4,
 "nbformat_minor": 2
}
