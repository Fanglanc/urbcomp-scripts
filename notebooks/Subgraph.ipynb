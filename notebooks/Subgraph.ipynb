{
 "cells": [
  {
   "cell_type": "code",
   "execution_count": 1,
   "metadata": {},
   "outputs": [
    {
     "name": "stdout",
     "output_type": "stream",
     "text": [
      "Populating the interactive namespace from numpy and matplotlib\n"
     ]
    }
   ],
   "source": [
    "%matplotlib inline\n",
    "%pylab inline\n",
    "import matplotlib.pyplot as plt\n",
    "import matplotlib.cm\n",
    "import sys\n",
    "sys.path.insert(0,'../')\n",
    "%load_ext autoreload\n",
    "%autoreload 2\n",
    "from utils import citibike_helpers\n",
    "from utils.gspan import gSpan\n",
    "import numpy as np\n",
    "import pandas as pd  #requirement comes with anaconda\n",
    "import datetime \n",
    "from datetime import datetime as dt\n",
    "import seaborn as sns\n",
    "import operator\n",
    "import networkx as nx\n",
    "from datetime import timedelta\n",
    "\n",
    "import community #requires separate install -  pip install python-louvain\n",
    "import warnings\n",
    "warnings.filterwarnings('ignore')"
   ]
  },
  {
   "cell_type": "code",
   "execution_count": 2,
   "metadata": {},
   "outputs": [
    {
     "data": {
      "text/html": [
       "<div>\n",
       "<style>\n",
       "    .dataframe thead tr:only-child th {\n",
       "        text-align: right;\n",
       "    }\n",
       "\n",
       "    .dataframe thead th {\n",
       "        text-align: left;\n",
       "    }\n",
       "\n",
       "    .dataframe tbody tr th {\n",
       "        vertical-align: top;\n",
       "    }\n",
       "</style>\n",
       "<table border=\"1\" class=\"dataframe\">\n",
       "  <thead>\n",
       "    <tr style=\"text-align: right;\">\n",
       "      <th></th>\n",
       "      <th>Trip Duration</th>\n",
       "      <th>Start Time</th>\n",
       "      <th>Stop Time</th>\n",
       "      <th>Start Station ID</th>\n",
       "      <th>Start Station Name</th>\n",
       "      <th>Start Station Latitude</th>\n",
       "      <th>Start Station Longitude</th>\n",
       "      <th>End Station ID</th>\n",
       "      <th>End Station Name</th>\n",
       "      <th>End Station Latitude</th>\n",
       "      <th>End Station Longitude</th>\n",
       "      <th>Bike ID</th>\n",
       "      <th>User Type</th>\n",
       "      <th>Birth Year</th>\n",
       "      <th>Gender</th>\n",
       "      <th>Trip Duration Minutes</th>\n",
       "    </tr>\n",
       "  </thead>\n",
       "  <tbody>\n",
       "    <tr>\n",
       "      <th>0</th>\n",
       "      <td>00:11:20</td>\n",
       "      <td>2017-01-01 00:00:21</td>\n",
       "      <td>2017-01-01 00:11:41</td>\n",
       "      <td>3226</td>\n",
       "      <td>W 82 St &amp; Central Park West</td>\n",
       "      <td>40.782750</td>\n",
       "      <td>-73.971370</td>\n",
       "      <td>3165</td>\n",
       "      <td>Central Park West &amp; W 72 St</td>\n",
       "      <td>40.775794</td>\n",
       "      <td>-73.976206</td>\n",
       "      <td>25542</td>\n",
       "      <td>Subscriber</td>\n",
       "      <td>1965.0</td>\n",
       "      <td>2</td>\n",
       "      <td>11.333333</td>\n",
       "    </tr>\n",
       "    <tr>\n",
       "      <th>1</th>\n",
       "      <td>00:21:23</td>\n",
       "      <td>2017-01-01 00:00:45</td>\n",
       "      <td>2017-01-01 00:22:08</td>\n",
       "      <td>3263</td>\n",
       "      <td>Cooper Square &amp; E 7 St</td>\n",
       "      <td>40.729236</td>\n",
       "      <td>-73.990868</td>\n",
       "      <td>498</td>\n",
       "      <td>Broadway &amp; W 32 St</td>\n",
       "      <td>40.748549</td>\n",
       "      <td>-73.988084</td>\n",
       "      <td>21136</td>\n",
       "      <td>Subscriber</td>\n",
       "      <td>1987.0</td>\n",
       "      <td>2</td>\n",
       "      <td>21.383333</td>\n",
       "    </tr>\n",
       "  </tbody>\n",
       "</table>\n",
       "</div>"
      ],
      "text/plain": [
       "  Trip Duration          Start Time           Stop Time  Start Station ID  \\\n",
       "0      00:11:20 2017-01-01 00:00:21 2017-01-01 00:11:41              3226   \n",
       "1      00:21:23 2017-01-01 00:00:45 2017-01-01 00:22:08              3263   \n",
       "\n",
       "            Start Station Name  Start Station Latitude  \\\n",
       "0  W 82 St & Central Park West               40.782750   \n",
       "1       Cooper Square & E 7 St               40.729236   \n",
       "\n",
       "   Start Station Longitude  End Station ID             End Station Name  \\\n",
       "0               -73.971370            3165  Central Park West & W 72 St   \n",
       "1               -73.990868             498           Broadway & W 32 St   \n",
       "\n",
       "   End Station Latitude  End Station Longitude  Bike ID   User Type  \\\n",
       "0             40.775794             -73.976206    25542  Subscriber   \n",
       "1             40.748549             -73.988084    21136  Subscriber   \n",
       "\n",
       "   Birth Year  Gender  Trip Duration Minutes  \n",
       "0      1965.0       2              11.333333  \n",
       "1      1987.0       2              21.383333  "
      ]
     },
     "execution_count": 2,
     "metadata": {},
     "output_type": "execute_result"
    }
   ],
   "source": [
    "inputfile=\"../datasets/citibike/201701-citibike-tripdata.csv.gz\"\n",
    "df = citibike_helpers.load_citibike_data(inputfile)\n",
    "df = citibike_helpers.calculate_trip_durations_citibike(df)\n",
    "#Here we focus on a subset of \"interesting\" trips with duration between 5 and 120 minutes.\n",
    "subset_trips=df[(df['Trip Duration Minutes']>5) & (df['Trip Duration Minutes']<120)]\n",
    "subset_trips.sort_values('Start Time',inplace=True)\n",
    "subset_trips['Start Time'] = pd.DatetimeIndex(subset_trips['Start Time'])\n",
    "subset_trips.head(2)"
   ]
  },
  {
   "cell_type": "code",
   "execution_count": 3,
   "metadata": {
    "collapsed": true
   },
   "outputs": [],
   "source": [
    "unique_start_stations=citibike_helpers.get_unique_column_values(subset_trips,'Start Station ID')\n",
    "unique_end_stations=citibike_helpers.get_unique_column_values(subset_trips,'End Station ID')\n",
    "station_ids=set(unique_start_stations).union(set(unique_end_stations))\n",
    "station2id = {v:k for k,v in enumerate(station_ids)}"
   ]
  },
  {
   "cell_type": "code",
   "execution_count": 9,
   "metadata": {},
   "outputs": [],
   "source": [
    "directed = False\n",
    "graph_number = 0\n",
    "time = 24\n",
    "start_time = pd.DatetimeIndex(['2017-01-01T00:00:00.000000000'])\n",
    "end_time = pd.DatetimeIndex(['2017-02-01T00:00:00.000000000'])\n",
    "next_time = start_time + timedelta(hours=time)\n",
    "if directed:\n",
    "    g = nx.DiGraph()\n",
    "else:\n",
    "    g = nx.Graph()\n",
    "all_graphs = []\n",
    "while next_time < end_time:\n",
    "    fl = subset_trips[(subset_trips['Start Time'].values > start_time.values) & (subset_trips['Start Time'].values <= next_time.values)]\n",
    "    for sts,ens in zip(fl['Start Station ID'].values,fl['End Station ID'].values):\n",
    "        if (sts,ens) in g.edges():\n",
    "            g[sts][ens]['weight'] = g[sts][ens]['weight']+1\n",
    "        else:\n",
    "            g.add_edge(sts,ens,weight=1)\n",
    "\n",
    "    node2id = {station2id[v]:k for k,v in enumerate(g.nodes())}\n",
    "    start_time = next_time\n",
    "    next_time = start_time + timedelta(hours=time)\n",
    "    graph_number += 1\n",
    "    all_graphs.append(g.copy())\n",
    "    nx.write_edgelist(g,path='../datasets/citibike/edgelist_24.txt',data=False,delimiter=',')\n",
    "    g.clear()\n",
    "    break"
   ]
  }
 ],
 "metadata": {
  "kernelspec": {
   "display_name": "Python 3",
   "language": "python",
   "name": "python3"
  },
  "language_info": {
   "codemirror_mode": {
    "name": "ipython",
    "version": 3
   },
   "file_extension": ".py",
   "mimetype": "text/x-python",
   "name": "python",
   "nbconvert_exporter": "python",
   "pygments_lexer": "ipython3",
   "version": "3.6.1"
  }
 },
 "nbformat": 4,
 "nbformat_minor": 2
}
