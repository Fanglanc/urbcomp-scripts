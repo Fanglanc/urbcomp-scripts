{
 "cells": [
  {
   "cell_type": "code",
   "execution_count": 1,
   "metadata": {},
   "outputs": [],
   "source": [
    "%matplotlib inline\n",
    "import matplotlib.pyplot as plt\n",
    "import matplotlib.cm\n",
    "import sys\n",
    "sys.path.insert(0,'../')\n",
    "%load_ext autoreload\n",
    "%autoreload 2\n",
    "from utils import citibike_helpers\n",
    "import numpy as np\n",
    "import pandas as pd  #requirement comes with anaconda\n",
    "import datetime \n",
    "from datetime import datetime as dt\n",
    "import seaborn as sns\n",
    "import operator\n",
    "import networkx as nx\n",
    "import community #requires separate install -  pip install python-louvain\n",
    "from geopy.distance import vincenty # requires separate install - pip install geopy\n",
    "from utils import nyctaxi_helpers\n",
    "import warnings\n",
    "warnings.filterwarnings('ignore')"
   ]
  },
  {
   "cell_type": "code",
   "execution_count": 2,
   "metadata": {
    "collapsed": true
   },
   "outputs": [],
   "source": [
    "inputfile=\"../datasets/citibike/201701-citibike-tripdata.csv.gz\"\n",
    "df = citibike_helpers.load_citibike_data(inputfile)\n",
    "df = citibike_helpers.calculate_trip_durations_citibike(df)\n",
    "#Here we focus on a subset of \"interesting\" trips with duration between 5 and 120 minutes."
   ]
  },
  {
   "cell_type": "code",
   "execution_count": 3,
   "metadata": {},
   "outputs": [],
   "source": [
    "df['Start Time'] =  pd.to_datetime(df['Start Time'], format='%Y-%m-%d %H:%M:%S')\n",
    "df['Start Time Hour'] = pd.DatetimeIndex(df['Start Time']).hour\n",
    "df['Start Time Minute'] = pd.DatetimeIndex(df['Start Time']).minute\n",
    "df['Start Time Day of Week'] = pd.DatetimeIndex(df['Start Time']).dayofweek\n",
    "f = lambda x: vincenty((x['Start Station Latitude'],x['Start Station Longitude']),(x['End Station Latitude'],x['End Station Longitude'])).miles\n",
    "df['distance'] = df.apply(f,axis=1)\n"
   ]
  },
  {
   "cell_type": "code",
   "execution_count": 7,
   "metadata": {},
   "outputs": [
    {
     "data": {
      "text/html": [
       "<div>\n",
       "<style>\n",
       "    .dataframe thead tr:only-child th {\n",
       "        text-align: right;\n",
       "    }\n",
       "\n",
       "    .dataframe thead th {\n",
       "        text-align: left;\n",
       "    }\n",
       "\n",
       "    .dataframe tbody tr th {\n",
       "        vertical-align: top;\n",
       "    }\n",
       "</style>\n",
       "<table border=\"1\" class=\"dataframe\">\n",
       "  <thead>\n",
       "    <tr style=\"text-align: right;\">\n",
       "      <th></th>\n",
       "      <th>Start Station Latitude</th>\n",
       "      <th>Start Station Longitude</th>\n",
       "      <th>End Station Latitude</th>\n",
       "      <th>End Station Longitude</th>\n",
       "      <th>Birth Year</th>\n",
       "      <th>Gender</th>\n",
       "      <th>Trip Duration Minutes</th>\n",
       "      <th>Start Time Hour</th>\n",
       "      <th>Start Time Minute</th>\n",
       "      <th>Start Time Day of Week</th>\n",
       "      <th>distance</th>\n",
       "      <th>User Type_Customer</th>\n",
       "      <th>User Type_Subscriber</th>\n",
       "    </tr>\n",
       "  </thead>\n",
       "  <tbody>\n",
       "    <tr>\n",
       "      <th>0</th>\n",
       "      <td>40.782750</td>\n",
       "      <td>-73.971370</td>\n",
       "      <td>40.775794</td>\n",
       "      <td>-73.976206</td>\n",
       "      <td>1965.0</td>\n",
       "      <td>2</td>\n",
       "      <td>11.333333</td>\n",
       "      <td>0</td>\n",
       "      <td>0</td>\n",
       "      <td>6</td>\n",
       "      <td>0.542899</td>\n",
       "      <td>0</td>\n",
       "      <td>1</td>\n",
       "    </tr>\n",
       "    <tr>\n",
       "      <th>1</th>\n",
       "      <td>40.729236</td>\n",
       "      <td>-73.990868</td>\n",
       "      <td>40.748549</td>\n",
       "      <td>-73.988084</td>\n",
       "      <td>1987.0</td>\n",
       "      <td>2</td>\n",
       "      <td>21.383333</td>\n",
       "      <td>0</td>\n",
       "      <td>0</td>\n",
       "      <td>6</td>\n",
       "      <td>1.340572</td>\n",
       "      <td>0</td>\n",
       "      <td>1</td>\n",
       "    </tr>\n",
       "  </tbody>\n",
       "</table>\n",
       "</div>"
      ],
      "text/plain": [
       "   Start Station Latitude  Start Station Longitude  End Station Latitude  \\\n",
       "0               40.782750               -73.971370             40.775794   \n",
       "1               40.729236               -73.990868             40.748549   \n",
       "\n",
       "   End Station Longitude  Birth Year  Gender  Trip Duration Minutes  \\\n",
       "0             -73.976206      1965.0       2              11.333333   \n",
       "1             -73.988084      1987.0       2              21.383333   \n",
       "\n",
       "   Start Time Hour  Start Time Minute  Start Time Day of Week  distance  \\\n",
       "0                0                  0                       6  0.542899   \n",
       "1                0                  0                       6  1.340572   \n",
       "\n",
       "   User Type_Customer  User Type_Subscriber  \n",
       "0                   0                     1  \n",
       "1                   0                     1  "
      ]
     },
     "execution_count": 7,
     "metadata": {},
     "output_type": "execute_result"
    }
   ],
   "source": [
    "subset_trips=df[(df['Trip Duration Minutes']>5) & (df['Trip Duration Minutes']<120)]\n",
    "subset_trips.drop(['Trip Duration', 'Start Time', 'Stop Time', 'Start Station ID','Start Station Name','End Station Name','End Station ID', 'Bike ID'],axis=1,inplace=True)\n",
    "subset_trips = pd.get_dummies(subset_trips)\n",
    "subset_trips.dropna(inplace=True)\n",
    "subset_trips.head(2)"
   ]
  },
  {
   "cell_type": "code",
   "execution_count": 8,
   "metadata": {
    "collapsed": true
   },
   "outputs": [],
   "source": [
    "from sklearn.linear_model import LinearRegression\n",
    "from sklearn.neighbors import KNeighborsRegressor\n",
    "from sklearn.model_selection import train_test_split\n",
    "from sklearn.metrics import r2_score\n",
    "\n",
    "models = {}\n",
    "lnrmodel = LinearRegression()\n",
    "knnmodel = KNeighborsRegressor()\n",
    "models.update({'Linear':lnrmodel})\n",
    "models.update({'KNN':knnmodel})"
   ]
  },
  {
   "cell_type": "code",
   "execution_count": 9,
   "metadata": {},
   "outputs": [
    {
     "name": "stdout",
     "output_type": "stream",
     "text": [
      "Running the Linear Regression...\n",
      "R2 score=0.5192549210155281\n",
      "Running the KNN Regression...\n",
      "R2 score=0.40007019712257696\n"
     ]
    }
   ],
   "source": [
    "y_cls = subset_trips['Trip Duration Minutes']\n",
    "# move all the predictors into another variable\n",
    "XX_cls = subset_trips.drop(['Trip Duration Minutes'], axis = 1)\n",
    "# model name which could be any of the following\n",
    "# sorted by the amount of time they take to train the model:\n",
    "# Linear Regression, KNN Regression\n",
    "for model_name, model in models.items():\n",
    "    print(\"Running the {} Regression...\".format(model_name))\n",
    "    x_train, x_test, y_train, y_test = train_test_split(XX_cls, y_cls, test_size=0.33, random_state=42)\n",
    "    y_pred = nyctaxi_helpers.run(model,x_train, y_train, x_test)\n",
    "    r2 = r2_score(y_test, y_pred)\n",
    "    print('R2 score={}'.format(r2))"
   ]
  }
 ],
 "metadata": {
  "kernelspec": {
   "display_name": "Python 3",
   "language": "python",
   "name": "python3"
  },
  "language_info": {
   "codemirror_mode": {
    "name": "ipython",
    "version": 3
   },
   "file_extension": ".py",
   "mimetype": "text/x-python",
   "name": "python",
   "nbconvert_exporter": "python",
   "pygments_lexer": "ipython3",
   "version": "3.6.1"
  }
 },
 "nbformat": 4,
 "nbformat_minor": 2
}
