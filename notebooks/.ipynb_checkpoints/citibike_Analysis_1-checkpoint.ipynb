{
 "cells": [
  {
   "cell_type": "code",
   "execution_count": 19,
   "metadata": {
    "collapsed": true
   },
   "outputs": [],
   "source": [
    "%matplotlib inline\n",
    "import matplotlib.pyplot as plt\n",
    "import matplotlib.cm\n",
    "\n",
    "from mpl_toolkits.basemap import Basemap\n",
    "from matplotlib.patches import Polygon\n",
    "from matplotlib.collections import PatchCollection\n",
    "from matplotlib.colors import Normalize\n",
    "\n",
    "import numpy\n",
    "import pandas as pd"
   ]
  },
  {
   "cell_type": "code",
   "execution_count": 6,
   "metadata": {
    "collapsed": false
   },
   "outputs": [],
   "source": [
    "df = pd.read_csv(\"../datasets/201701-citibike-tripdata.csv.gz\", compression='gzip', header=0, sep=',')"
   ]
  },
  {
   "cell_type": "code",
   "execution_count": 7,
   "metadata": {
    "collapsed": false
   },
   "outputs": [
    {
     "data": {
      "text/html": [
       "<div>\n",
       "<table border=\"1\" class=\"dataframe\">\n",
       "  <thead>\n",
       "    <tr style=\"text-align: right;\">\n",
       "      <th></th>\n",
       "      <th>Trip Duration</th>\n",
       "      <th>Start Time</th>\n",
       "      <th>Stop Time</th>\n",
       "      <th>Start Station ID</th>\n",
       "      <th>Start Station Name</th>\n",
       "      <th>Start Station Latitude</th>\n",
       "      <th>Start Station Longitude</th>\n",
       "      <th>End Station ID</th>\n",
       "      <th>End Station Name</th>\n",
       "      <th>End Station Latitude</th>\n",
       "      <th>End Station Longitude</th>\n",
       "      <th>Bike ID</th>\n",
       "      <th>User Type</th>\n",
       "      <th>Birth Year</th>\n",
       "      <th>Gender</th>\n",
       "    </tr>\n",
       "  </thead>\n",
       "  <tbody>\n",
       "    <tr>\n",
       "      <th>0</th>\n",
       "      <td>680</td>\n",
       "      <td>2017-01-01 00:00:21</td>\n",
       "      <td>2017-01-01 00:11:41</td>\n",
       "      <td>3226</td>\n",
       "      <td>W 82 St &amp; Central Park West</td>\n",
       "      <td>40.782750</td>\n",
       "      <td>-73.971370</td>\n",
       "      <td>3165</td>\n",
       "      <td>Central Park West &amp; W 72 St</td>\n",
       "      <td>40.775794</td>\n",
       "      <td>-73.976206</td>\n",
       "      <td>25542</td>\n",
       "      <td>Subscriber</td>\n",
       "      <td>1965.0</td>\n",
       "      <td>2</td>\n",
       "    </tr>\n",
       "    <tr>\n",
       "      <th>1</th>\n",
       "      <td>1282</td>\n",
       "      <td>2017-01-01 00:00:45</td>\n",
       "      <td>2017-01-01 00:22:08</td>\n",
       "      <td>3263</td>\n",
       "      <td>Cooper Square &amp; E 7 St</td>\n",
       "      <td>40.729236</td>\n",
       "      <td>-73.990868</td>\n",
       "      <td>498</td>\n",
       "      <td>Broadway &amp; W 32 St</td>\n",
       "      <td>40.748549</td>\n",
       "      <td>-73.988084</td>\n",
       "      <td>21136</td>\n",
       "      <td>Subscriber</td>\n",
       "      <td>1987.0</td>\n",
       "      <td>2</td>\n",
       "    </tr>\n",
       "    <tr>\n",
       "      <th>2</th>\n",
       "      <td>648</td>\n",
       "      <td>2017-01-01 00:00:57</td>\n",
       "      <td>2017-01-01 00:11:46</td>\n",
       "      <td>3143</td>\n",
       "      <td>5 Ave &amp; E 78 St</td>\n",
       "      <td>40.776829</td>\n",
       "      <td>-73.963888</td>\n",
       "      <td>3152</td>\n",
       "      <td>3 Ave &amp; E 71 St</td>\n",
       "      <td>40.768737</td>\n",
       "      <td>-73.961199</td>\n",
       "      <td>18147</td>\n",
       "      <td>Customer</td>\n",
       "      <td>NaN</td>\n",
       "      <td>0</td>\n",
       "    </tr>\n",
       "    <tr>\n",
       "      <th>3</th>\n",
       "      <td>631</td>\n",
       "      <td>2017-01-01 00:01:10</td>\n",
       "      <td>2017-01-01 00:11:42</td>\n",
       "      <td>3143</td>\n",
       "      <td>5 Ave &amp; E 78 St</td>\n",
       "      <td>40.776829</td>\n",
       "      <td>-73.963888</td>\n",
       "      <td>3152</td>\n",
       "      <td>3 Ave &amp; E 71 St</td>\n",
       "      <td>40.768737</td>\n",
       "      <td>-73.961199</td>\n",
       "      <td>21211</td>\n",
       "      <td>Customer</td>\n",
       "      <td>NaN</td>\n",
       "      <td>0</td>\n",
       "    </tr>\n",
       "    <tr>\n",
       "      <th>4</th>\n",
       "      <td>621</td>\n",
       "      <td>2017-01-01 00:01:25</td>\n",
       "      <td>2017-01-01 00:11:47</td>\n",
       "      <td>3143</td>\n",
       "      <td>5 Ave &amp; E 78 St</td>\n",
       "      <td>40.776829</td>\n",
       "      <td>-73.963888</td>\n",
       "      <td>3152</td>\n",
       "      <td>3 Ave &amp; E 71 St</td>\n",
       "      <td>40.768737</td>\n",
       "      <td>-73.961199</td>\n",
       "      <td>26819</td>\n",
       "      <td>Customer</td>\n",
       "      <td>NaN</td>\n",
       "      <td>0</td>\n",
       "    </tr>\n",
       "  </tbody>\n",
       "</table>\n",
       "</div>"
      ],
      "text/plain": [
       "   Trip Duration           Start Time            Stop Time  Start Station ID  \\\n",
       "0            680  2017-01-01 00:00:21  2017-01-01 00:11:41              3226   \n",
       "1           1282  2017-01-01 00:00:45  2017-01-01 00:22:08              3263   \n",
       "2            648  2017-01-01 00:00:57  2017-01-01 00:11:46              3143   \n",
       "3            631  2017-01-01 00:01:10  2017-01-01 00:11:42              3143   \n",
       "4            621  2017-01-01 00:01:25  2017-01-01 00:11:47              3143   \n",
       "\n",
       "            Start Station Name  Start Station Latitude  \\\n",
       "0  W 82 St & Central Park West               40.782750   \n",
       "1       Cooper Square & E 7 St               40.729236   \n",
       "2              5 Ave & E 78 St               40.776829   \n",
       "3              5 Ave & E 78 St               40.776829   \n",
       "4              5 Ave & E 78 St               40.776829   \n",
       "\n",
       "   Start Station Longitude  End Station ID             End Station Name  \\\n",
       "0               -73.971370            3165  Central Park West & W 72 St   \n",
       "1               -73.990868             498           Broadway & W 32 St   \n",
       "2               -73.963888            3152              3 Ave & E 71 St   \n",
       "3               -73.963888            3152              3 Ave & E 71 St   \n",
       "4               -73.963888            3152              3 Ave & E 71 St   \n",
       "\n",
       "   End Station Latitude  End Station Longitude  Bike ID   User Type  \\\n",
       "0             40.775794             -73.976206    25542  Subscriber   \n",
       "1             40.748549             -73.988084    21136  Subscriber   \n",
       "2             40.768737             -73.961199    18147    Customer   \n",
       "3             40.768737             -73.961199    21211    Customer   \n",
       "4             40.768737             -73.961199    26819    Customer   \n",
       "\n",
       "   Birth Year  Gender  \n",
       "0      1965.0       2  \n",
       "1      1987.0       2  \n",
       "2         NaN       0  \n",
       "3         NaN       0  \n",
       "4         NaN       0  "
      ]
     },
     "execution_count": 7,
     "metadata": {},
     "output_type": "execute_result"
    }
   ],
   "source": [
    "df.head()"
   ]
  },
  {
   "cell_type": "markdown",
   "metadata": {},
   "source": [
    "# Citibike Markdown Coordinates\n",
    "## westlimit=-74.121323; \n",
    "## southlimit=40.632975; \n",
    "## eastlimit=-73.817825; \n",
    "## northlimit=40.809912;\n",
    "\n",
    "http://boundingbox.klokantech.com/"
   ]
  },
  {
   "cell_type": "code",
   "execution_count": 50,
   "metadata": {
    "collapsed": false
   },
   "outputs": [
    {
     "data": {
      "text/plain": [
       "<matplotlib.collections.LineCollection at 0x115200978>"
      ]
     },
     "execution_count": 50,
     "metadata": {},
     "output_type": "execute_result"
    },
    {
     "data": {
      "image/png": "[encoded data removed]",
      "text/plain": [
       "<matplotlib.figure.Figure at 0x116cc7f98>"
      ]
     },
     "metadata": {},
     "output_type": "display_data"
    }
   ],
   "source": [
    "fig, ax = plt.subplots(figsize=(5,5))\n",
    "coordslon = (-74.1213,-73.8178)\n",
    "coordslat=(40.6329,40.8099)\n",
    "avg_lon= numpy.average(coordslon)\n",
    "avg_lat=numpy.average(coordslat)\n",
    "# m = Basemap(resolution='c', # c, l, i, h, f or None\n",
    "#             projection='merc',\n",
    "#             lat_0=54.5, lon_0=-4.36,\n",
    "#             llcrnrlon=-6., llcrnrlat= 49.5, urcrnrlon=2., urcrnrlat=55.2)\n",
    "# m = Basemap(resolution='c', # c, l, i, h, f or None\n",
    "#             projection='merc',lat_0=avg_lat,lon_0=avg_lon,llcrnrlon=coordslon[0],\n",
    "#             llcrnrlat=coordslat[0], urcrnrlon=coordslon[1], urcrnrlat=coordslat[1])\n",
    "m = Basemap(resolution='i',projection='lcc',lat_0=40.5,lon_0=-74,llcrnrlon=-75,llcrnrlat=40, \n",
    "            urcrnrlon=-73,urcrnrlat=41)\n",
    "m.drawmapboundary(fill_color='#46bcec')\n",
    "m.fillcontinents(color='#f2f2f2',lake_color='#46bcec')\n",
    "m.drawcoastlines()\n",
    "m.drawmapboundary(fill_color='#46bcec')\n",
    "m.fillcontinents(color='#f2f2f2',lake_color='#46bcec')\n",
    "m.plot(x,y,'o', markersize=100, color='#444444', alpha=0.8)\n",
    "m.drawcoastlines()"
   ]
  },
  {
   "cell_type": "code",
   "execution_count": 47,
   "metadata": {
    "collapsed": false
   },
   "outputs": [],
   "source": []
  },
  {
   "cell_type": "code",
   "execution_count": 48,
   "metadata": {
    "collapsed": false
   },
   "outputs": [
    {
     "data": {
      "text/plain": [
       "[<matplotlib.lines.Line2D at 0x11a81e2b0>]"
      ]
     },
     "execution_count": 48,
     "metadata": {},
     "output_type": "execute_result"
    },
    {
     "data": {
      "image/png": "[encoded data removed]",
      "text/plain": [
       "<matplotlib.figure.Figure at 0x116ad7ef0>"
      ]
     },
     "metadata": {},
     "output_type": "display_data"
    }
   ],
   "source": []
  },
  {
   "cell_type": "code",
   "execution_count": 23,
   "metadata": {
    "collapsed": false
   },
   "outputs": [
    {
     "name": "stdout",
     "output_type": "stream",
     "text": [
      "-73.96955 40.7214\n"
     ]
    }
   ],
   "source": [
    "print(avg_lon,avg_lat)"
   ]
  },
  {
   "cell_type": "code",
   "execution_count": 14,
   "metadata": {
    "collapsed": false
   },
   "outputs": [],
   "source": []
  },
  {
   "cell_type": "code",
   "execution_count": 15,
   "metadata": {
    "collapsed": false
   },
   "outputs": [
    {
     "data": {
      "text/plain": [
       "(-73.969549999999998, 40.721400000000003)"
      ]
     },
     "execution_count": 15,
     "metadata": {},
     "output_type": "execute_result"
    }
   ],
   "source": [
    "centerx,centery"
   ]
  },
  {
   "cell_type": "code",
   "execution_count": null,
   "metadata": {
    "collapsed": true
   },
   "outputs": [],
   "source": []
  }
 ],
 "metadata": {
  "kernelspec": {
   "display_name": "Python 3",
   "language": "python",
   "name": "python3"
  },
  "language_info": {
   "codemirror_mode": {
    "name": "ipython",
    "version": 3
   },
   "file_extension": ".py",
   "mimetype": "text/x-python",
   "name": "python",
   "nbconvert_exporter": "python",
   "pygments_lexer": "ipython3",
   "version": "3.5.2"
  },
  "latex_envs": {
   "bibliofile": "biblio.bib",
   "cite_by": "apalike",
   "current_citInitial": 1,
   "eqLabelWithNumbers": true,
   "eqNumInitial": 0
  }
 },
 "nbformat": 4,
 "nbformat_minor": 0
}
